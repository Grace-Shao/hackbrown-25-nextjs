{
 "cells": [
  {
   "cell_type": "code",
   "execution_count": 23,
   "metadata": {},
   "outputs": [
    {
     "name": "stdout",
     "output_type": "stream",
     "text": [
      "Model archive created successfully: model_files.tar.gz\n"
     ]
    }
   ],
   "source": [
    "import tarfile\n",
    "\n",
    "# Define file paths\n",
    "model_files = ['knn_model.pkl', 'scaler.pkl', 'label_encoder.pkl', 'inference.py']  # Add all your model files here\n",
    "tar_file_path = 'model_files.tar.gz'\n",
    "\n",
    "# Create a tar.gz archive\n",
    "with tarfile.open(tar_file_path, 'w:gz') as tar:\n",
    "    for file in model_files:\n",
    "        tar.add(file)\n",
    "\n",
    "print(\"Model archive created successfully:\", tar_file_path)\n"
   ]
  },
  {
   "cell_type": "code",
   "execution_count": 25,
   "metadata": {},
   "outputs": [
    {
     "name": "stdout",
     "output_type": "stream",
     "text": [
      "File uploaded successfully to s3://music-recommender/models/model_files.tar.gz\n"
     ]
    }
   ],
   "source": [
    "import boto3\n",
    "import os\n",
    "from dotenv import load_dotenv\n",
    "\n",
    "# Step 1: Load environment variables from .env\n",
    "load_dotenv()\n",
    "\n",
    "# Step 2: Get credentials from environment variables\n",
    "aws_access_key = os.getenv('AWS_ACCESS_KEY_ID')\n",
    "aws_secret_access_key = os.getenv('AWS_SECRET_ACCESS_KEY')\n",
    "aws_region = os.getenv('AWS_REGION')\n",
    "\n",
    "# Step 3: Initialize the S3 client\n",
    "s3_client = boto3.client(\n",
    "    's3',\n",
    "    aws_access_key_id=aws_access_key,\n",
    "    aws_secret_access_key=aws_secret_access_key,\n",
    "    region_name=aws_region\n",
    ")\n",
    "\n",
    "# Step 4: Define file and bucket details\n",
    "local_file_path = 'model_files.tar.gz'          # Path to the zip file\n",
    "bucket_name = 'music-recommender'             # Name of the S3 bucket\n",
    "s3_file_key = 'models/model_files.tar.gz'       # Key (path) in the S3 bucket\n",
    "\n",
    "# Step 5: Upload the file to S3\n",
    "try:\n",
    "    s3_client.upload_file(local_file_path, bucket_name, s3_file_key)\n",
    "    print(f\"File uploaded successfully to s3://{bucket_name}/{s3_file_key}\")\n",
    "except Exception as e:\n",
    "    print(f\"Error uploading file: {e}\")\n"
   ]
  },
  {
   "cell_type": "code",
   "execution_count": 27,
   "metadata": {},
   "outputs": [
    {
     "name": "stdout",
     "output_type": "stream",
     "text": [
      "Model created successfully: arn:aws:sagemaker:us-east-1:024848456817:model/custom-music-recommender-model\n"
     ]
    }
   ],
   "source": [
    "import boto3\n",
    "import os\n",
    "from dotenv import load_dotenv\n",
    "\n",
    "# Load environment variables from .env\n",
    "load_dotenv()\n",
    "\n",
    "# AWS region and role information\n",
    "aws_region = os.getenv('AWS_REGION', 'us-east-1')\n",
    "execution_role_arn = 'arn:aws:iam::024848456817:role/SageMakerExecutionRole'\n",
    "\n",
    "# Initialize the SageMaker client\n",
    "sagemaker_client = boto3.client('sagemaker', region_name=aws_region)\n",
    "\n",
    "# Define model details\n",
    "model_name = 'custom-music-recommender-model'\n",
    "s3_model_path = 's3://music-recommender/models/model_files.tar.gz'\n",
    "sagemaker_client.delete_model(ModelName=model_name)\n",
    "# Specify script mode container for Python\n",
    "response = sagemaker_client.create_model(\n",
    "    ModelName=model_name,\n",
    "    ExecutionRoleArn=execution_role_arn,\n",
    "    PrimaryContainer={\n",
    "       'Image': '683313688378.dkr.ecr.' + aws_region + '.amazonaws.com/sagemaker-scikit-learn:1.0-1-cpu-py3',\n",
    "  # Update this if using another image\n",
    "        'ModelDataUrl': s3_model_path,\n",
    "        'Environment': {\n",
    "            'SAGEMAKER_PROGRAM': 'inference.py',  # Name of your custom script\n",
    "            'SAGEMAKER_SUBMIT_DIRECTORY': s3_model_path\n",
    "        }\n",
    "    }\n",
    ")\n",
    "\n",
    "print(\"Model created successfully:\", response['ModelArn'])\n"
   ]
  },
  {
   "cell_type": "code",
   "execution_count": 32,
   "metadata": {},
   "outputs": [
    {
     "name": "stdout",
     "output_type": "stream",
     "text": [
      "Creating endpoint configuration...\n",
      "Endpoint configuration created successfully: arn:aws:sagemaker:us-east-1:024848456817:endpoint-config/music-recommender-endpoint-config\n"
     ]
    }
   ],
   "source": [
    "endpoint_config_name = 'music-recommender-endpoint-config'\n",
    "sagemaker_client.delete_endpoint_config(EndpointConfigName=endpoint_config_name)\n",
    "print(\"Creating endpoint configuration...\")\n",
    "response = sagemaker_client.create_endpoint_config(\n",
    "    EndpointConfigName=endpoint_config_name,\n",
    "    ProductionVariants=[\n",
    "        {\n",
    "            'VariantName': 'AllTraffic',\n",
    "            'ModelName': model_name,\n",
    "            'InstanceType': 'ml.m5.large',\n",
    "            'InitialInstanceCount': 1\n",
    "        }\n",
    "    ]\n",
    ")\n",
    "print(\"Endpoint configuration created successfully:\", response['EndpointConfigArn'])"
   ]
  },
  {
   "cell_type": "code",
   "execution_count": 36,
   "metadata": {},
   "outputs": [
    {
     "name": "stdout",
     "output_type": "stream",
     "text": [
      "Creating endpoint...\n",
      "Endpoint creation initiated: arn:aws:sagemaker:us-east-1:024848456817:endpoint/music-recommender-endpoint\n"
     ]
    }
   ],
   "source": [
    "endpoint_name = 'music-recommender-endpoint'\n",
    "print(\"Creating endpoint...\")\n",
    "response = sagemaker_client.create_endpoint(\n",
    "    EndpointName=endpoint_name,\n",
    "    EndpointConfigName=endpoint_config_name\n",
    ")\n",
    "print(\"Endpoint creation initiated:\", response['EndpointArn'])\n"
   ]
  },
  {
   "cell_type": "code",
   "execution_count": 37,
   "metadata": {},
   "outputs": [
    {
     "name": "stdout",
     "output_type": "stream",
     "text": [
      "{\n",
      "    \"EndpointName\": \"music-recommender-endpoint\",\n",
      "    \"EndpointArn\": \"arn:aws:sagemaker:us-east-1:024848456817:endpoint/music-recommender-endpoint\",\n",
      "    \"EndpointConfigName\": \"music-recommender-endpoint-config\",\n",
      "    \"EndpointStatus\": \"Creating\",\n",
      "    \"CreationTime\": \"2025-02-02 06:14:10.555000-05:00\",\n",
      "    \"LastModifiedTime\": \"2025-02-02 06:14:10.986000-05:00\",\n",
      "    \"ResponseMetadata\": {\n",
      "        \"RequestId\": \"2decc515-4232-4704-8e3b-2afb31100fd8\",\n",
      "        \"HTTPStatusCode\": 200,\n",
      "        \"HTTPHeaders\": {\n",
      "            \"x-amzn-requestid\": \"2decc515-4232-4704-8e3b-2afb31100fd8\",\n",
      "            \"content-type\": \"application/x-amz-json-1.1\",\n",
      "            \"content-length\": \"291\",\n",
      "            \"date\": \"Sun, 02 Feb 2025 11:14:15 GMT\"\n",
      "        },\n",
      "        \"RetryAttempts\": 0\n",
      "    }\n",
      "}\n"
     ]
    }
   ],
   "source": [
    "#checking the status of the endpoint\n",
    "import boto3\n",
    "import json\n",
    "\n",
    "# Initialize SageMaker client\n",
    "sagemaker_client = boto3.client('sagemaker', region_name='us-east-1')\n",
    "\n",
    "# Get endpoint details\n",
    "response = sagemaker_client.describe_endpoint(EndpointName='music-recommender-endpoint')\n",
    "print(json.dumps(response, indent=4, default=str))\n"
   ]
  },
  {
   "cell_type": "code",
   "execution_count": 38,
   "metadata": {},
   "outputs": [
    {
     "name": "stdout",
     "output_type": "stream",
     "text": [
      "Waiting for endpoint to become active...\n",
      "Endpoint status: Creating\n",
      "Endpoint status: Creating\n",
      "Endpoint status: Creating\n",
      "Endpoint status: Creating\n",
      "Endpoint status: Creating\n",
      "Endpoint status: Creating\n",
      "Endpoint status: Creating\n",
      "Endpoint status: InService\n",
      "Endpoint is ready!\n"
     ]
    }
   ],
   "source": [
    "import time\n",
    "def wait_for_endpoint(endpoint_name):\n",
    "    print(\"Waiting for endpoint to become active...\")\n",
    "    while True:\n",
    "        response = sagemaker_client.describe_endpoint(EndpointName=endpoint_name)\n",
    "        status = response['EndpointStatus']\n",
    "        print(f\"Endpoint status: {status}\")\n",
    "\n",
    "        if status == 'InService':\n",
    "            print(\"Endpoint is ready!\")\n",
    "            break\n",
    "        elif status == 'Failed':\n",
    "            raise Exception(\"Endpoint deployment failed\")\n",
    "\n",
    "        time.sleep(30)\n",
    "\n",
    "wait_for_endpoint(endpoint_name)\n"
   ]
  },
  {
   "cell_type": "code",
   "execution_count": null,
   "metadata": {},
   "outputs": [],
   "source": [
    "#test"
   ]
  }
 ],
 "metadata": {
  "kernelspec": {
   "display_name": "Python 3",
   "language": "python",
   "name": "python3"
  },
  "language_info": {
   "codemirror_mode": {
    "name": "ipython",
    "version": 3
   },
   "file_extension": ".py",
   "mimetype": "text/x-python",
   "name": "python",
   "nbconvert_exporter": "python",
   "pygments_lexer": "ipython3",
   "version": "3.12.6"
  }
 },
 "nbformat": 4,
 "nbformat_minor": 2
}
