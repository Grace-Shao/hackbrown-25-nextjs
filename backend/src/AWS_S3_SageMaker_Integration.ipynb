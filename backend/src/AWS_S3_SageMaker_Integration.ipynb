{
 "cells": [
  {
   "cell_type": "code",
   "execution_count": 23,
   "metadata": {},
   "outputs": [
    {
     "name": "stdout",
     "output_type": "stream",
     "text": [
      "Model archive created successfully: model_files.tar.gz\n"
     ]
    }
   ],
   "source": [
    "import tarfile\n",
    "\n",
    "# Define file paths\n",
    "model_files = ['knn_model.pkl', 'scaler.pkl', 'label_encoder.pkl', 'inference.py']  # Add all your model files here\n",
    "tar_file_path = 'model_files.tar.gz'\n",
    "\n",
    "# Create a tar.gz archive\n",
    "with tarfile.open(tar_file_path, 'w:gz') as tar:\n",
    "    for file in model_files:\n",
    "        tar.add(file)\n",
    "\n",
    "print(\"Model archive created successfully:\", tar_file_path)\n"
   ]
  },
  {
   "cell_type": "code",
   "execution_count": 25,
   "metadata": {},
   "outputs": [
    {
     "name": "stdout",
     "output_type": "stream",
     "text": [
      "File uploaded successfully to s3://music-recommender/models/model_files.tar.gz\n"
     ]
    }
   ],
   "source": [
    "import boto3\n",
    "import os\n",
    "from dotenv import load_dotenv\n",
    "\n",
    "# Step 1: Load environment variables from .env\n",
    "load_dotenv()\n",
    "\n",
    "# Step 2: Get credentials from environment variables\n",
    "aws_access_key = os.getenv('AWS_ACCESS_KEY_ID')\n",
    "aws_secret_access_key = os.getenv('AWS_SECRET_ACCESS_KEY')\n",
    "aws_region = os.getenv('AWS_REGION')\n",
    "\n",
    "# Step 3: Initialize the S3 client\n",
    "s3_client = boto3.client(\n",
    "    's3',\n",
    "    aws_access_key_id=aws_access_key,\n",
    "    aws_secret_access_key=aws_secret_access_key,\n",
    "    region_name=aws_region\n",
    ")\n",
    "\n",
    "# Step 4: Define file and bucket details\n",
    "local_file_path = 'model_files.tar.gz'          # Path to the zip file\n",
    "bucket_name = 'music-recommender'             # Name of the S3 bucket\n",
    "s3_file_key = 'models/model_files.tar.gz'       # Key (path) in the S3 bucket\n",
    "\n",
    "# Step 5: Upload the file to S3\n",
    "try:\n",
    "    s3_client.upload_file(local_file_path, bucket_name, s3_file_key)\n",
    "    print(f\"File uploaded successfully to s3://{bucket_name}/{s3_file_key}\")\n",
    "except Exception as e:\n",
    "    print(f\"Error uploading file: {e}\")\n"
   ]
  },
  {
   "cell_type": "code",
   "execution_count": 27,
   "metadata": {},
   "outputs": [
    {
     "name": "stdout",
     "output_type": "stream",
     "text": [
      "Model created successfully: arn:aws:sagemaker:us-east-1:024848456817:model/custom-music-recommender-model\n"
     ]
    }
   ],
   "source": [
    "import boto3\n",
    "import os\n",
    "from dotenv import load_dotenv\n",
    "\n",
    "# Load environment variables from .env\n",
    "load_dotenv()\n",
    "\n",
    "# AWS region and role information\n",
    "aws_region = os.getenv('AWS_REGION', 'us-east-1')\n",
    "execution_role_arn = 'arn:aws:iam::024848456817:role/SageMakerExecutionRole'\n",
    "\n",
    "# Initialize the SageMaker client\n",
    "sagemaker_client = boto3.client('sagemaker', region_name=aws_region)\n",
    "\n",
    "# Define model details\n",
    "model_name = 'custom-music-recommender-model'\n",
    "s3_model_path = 's3://music-recommender/models/model_files.tar.gz'\n",
    "sagemaker_client.delete_model(ModelName=model_name)\n",
    "# Specify script mode container for Python\n",
    "response = sagemaker_client.create_model(\n",
    "    ModelName=model_name,\n",
    "    ExecutionRoleArn=execution_role_arn,\n",
    "    PrimaryContainer={\n",
    "       'Image': '683313688378.dkr.ecr.' + aws_region + '.amazonaws.com/sagemaker-scikit-learn:1.0-1-cpu-py3',\n",
    "  # Update this if using another image\n",
    "        'ModelDataUrl': s3_model_path,\n",
    "        'Environment': {\n",
    "            'SAGEMAKER_PROGRAM': 'inference.py',  # Name of your custom script\n",
    "            'SAGEMAKER_SUBMIT_DIRECTORY': s3_model_path\n",
    "        }\n",
    "    }\n",
    ")\n",
    "\n",
    "print(\"Model created successfully:\", response['ModelArn'])\n"
   ]
  },
  {
   "cell_type": "code",
   "execution_count": 32,
   "metadata": {},
   "outputs": [
    {
     "name": "stdout",
     "output_type": "stream",
     "text": [
      "Creating endpoint configuration...\n",
      "Endpoint configuration created successfully: arn:aws:sagemaker:us-east-1:024848456817:endpoint-config/music-recommender-endpoint-config\n"
     ]
    }
   ],
   "source": [
    "endpoint_config_name = 'music-recommender-endpoint-config'\n",
    "sagemaker_client.delete_endpoint_config(EndpointConfigName=endpoint_config_name)\n",
    "print(\"Creating endpoint configuration...\")\n",
    "response = sagemaker_client.create_endpoint_config(\n",
    "    EndpointConfigName=endpoint_config_name,\n",
    "    ProductionVariants=[\n",
    "        {\n",
    "            'VariantName': 'AllTraffic',\n",
    "            'ModelName': model_name,\n",
    "            'InstanceType': 'ml.m5.large',\n",
    "            'InitialInstanceCount': 1\n",
    "        }\n",
    "    ]\n",
    ")\n",
    "print(\"Endpoint configuration created successfully:\", response['EndpointConfigArn'])"
   ]
  },
  {
   "cell_type": "code",
   "execution_count": null,
   "metadata": {},
   "outputs": [
    {
     "name": "stdout",
     "output_type": "stream",
     "text": [
      "Creating endpoint...\n"
     ]
    },
    {
     "ename": "ClientError",
     "evalue": "An error occurred (ValidationException) when calling the DeleteEndpoint operation: Could not find endpoint \"music-recommender-endpoint\".",
     "output_type": "error",
     "traceback": [
      "\u001b[1;31m---------------------------------------------------------------------------\u001b[0m",
      "\u001b[1;31mClientError\u001b[0m                               Traceback (most recent call last)",
      "Cell \u001b[1;32mIn[35], line 3\u001b[0m\n\u001b[0;32m      1\u001b[0m endpoint_name \u001b[38;5;241m=\u001b[39m \u001b[38;5;124m'\u001b[39m\u001b[38;5;124mmusic-recommender-endpoint\u001b[39m\u001b[38;5;124m'\u001b[39m\n\u001b[0;32m      2\u001b[0m \u001b[38;5;28mprint\u001b[39m(\u001b[38;5;124m\"\u001b[39m\u001b[38;5;124mCreating endpoint...\u001b[39m\u001b[38;5;124m\"\u001b[39m)\n\u001b[1;32m----> 3\u001b[0m \u001b[43msagemaker_client\u001b[49m\u001b[38;5;241;43m.\u001b[39;49m\u001b[43mdelete_endpoint\u001b[49m\u001b[43m(\u001b[49m\u001b[43mEndpointName\u001b[49m\u001b[38;5;241;43m=\u001b[39;49m\u001b[43mendpoint_name\u001b[49m\u001b[43m)\u001b[49m\n",
      "File \u001b[1;32m~\\AppData\\Roaming\\Python\\Python312\\site-packages\\botocore\\client.py:569\u001b[0m, in \u001b[0;36mClientCreator._create_api_method.<locals>._api_call\u001b[1;34m(self, *args, **kwargs)\u001b[0m\n\u001b[0;32m    565\u001b[0m     \u001b[38;5;28;01mraise\u001b[39;00m \u001b[38;5;167;01mTypeError\u001b[39;00m(\n\u001b[0;32m    566\u001b[0m         \u001b[38;5;124mf\u001b[39m\u001b[38;5;124m\"\u001b[39m\u001b[38;5;132;01m{\u001b[39;00mpy_operation_name\u001b[38;5;132;01m}\u001b[39;00m\u001b[38;5;124m() only accepts keyword arguments.\u001b[39m\u001b[38;5;124m\"\u001b[39m\n\u001b[0;32m    567\u001b[0m     )\n\u001b[0;32m    568\u001b[0m \u001b[38;5;66;03m# The \"self\" in this scope is referring to the BaseClient.\u001b[39;00m\n\u001b[1;32m--> 569\u001b[0m \u001b[38;5;28;01mreturn\u001b[39;00m \u001b[38;5;28;43mself\u001b[39;49m\u001b[38;5;241;43m.\u001b[39;49m\u001b[43m_make_api_call\u001b[49m\u001b[43m(\u001b[49m\u001b[43moperation_name\u001b[49m\u001b[43m,\u001b[49m\u001b[43m \u001b[49m\u001b[43mkwargs\u001b[49m\u001b[43m)\u001b[49m\n",
      "File \u001b[1;32m~\\AppData\\Roaming\\Python\\Python312\\site-packages\\botocore\\client.py:1023\u001b[0m, in \u001b[0;36mBaseClient._make_api_call\u001b[1;34m(self, operation_name, api_params)\u001b[0m\n\u001b[0;32m   1019\u001b[0m     error_code \u001b[38;5;241m=\u001b[39m error_info\u001b[38;5;241m.\u001b[39mget(\u001b[38;5;124m\"\u001b[39m\u001b[38;5;124mQueryErrorCode\u001b[39m\u001b[38;5;124m\"\u001b[39m) \u001b[38;5;129;01mor\u001b[39;00m error_info\u001b[38;5;241m.\u001b[39mget(\n\u001b[0;32m   1020\u001b[0m         \u001b[38;5;124m\"\u001b[39m\u001b[38;5;124mCode\u001b[39m\u001b[38;5;124m\"\u001b[39m\n\u001b[0;32m   1021\u001b[0m     )\n\u001b[0;32m   1022\u001b[0m     error_class \u001b[38;5;241m=\u001b[39m \u001b[38;5;28mself\u001b[39m\u001b[38;5;241m.\u001b[39mexceptions\u001b[38;5;241m.\u001b[39mfrom_code(error_code)\n\u001b[1;32m-> 1023\u001b[0m     \u001b[38;5;28;01mraise\u001b[39;00m error_class(parsed_response, operation_name)\n\u001b[0;32m   1024\u001b[0m \u001b[38;5;28;01melse\u001b[39;00m:\n\u001b[0;32m   1025\u001b[0m     \u001b[38;5;28;01mreturn\u001b[39;00m parsed_response\n",
      "\u001b[1;31mClientError\u001b[0m: An error occurred (ValidationException) when calling the DeleteEndpoint operation: Could not find endpoint \"music-recommender-endpoint\"."
     ]
    }
   ],
   "source": [
    "endpoint_name = 'music-recommender-endpoint'\n",
    "print(\"Creating endpoint...\")\n",
    "response = sagemaker_client.create_endpoint(\n",
    "    EndpointName=endpoint_name,\n",
    "    EndpointConfigName=endpoint_config_name\n",
    ")\n",
    "print(\"Endpoint creation initiated:\", response['EndpointArn'])\n"
   ]
  },
  {
   "cell_type": "code",
   "execution_count": 29,
   "metadata": {},
   "outputs": [
    {
     "name": "stdout",
     "output_type": "stream",
     "text": [
      "{\n",
      "    \"EndpointName\": \"music-recommender-endpoint\",\n",
      "    \"EndpointArn\": \"arn:aws:sagemaker:us-east-1:024848456817:endpoint/music-recommender-endpoint\",\n",
      "    \"EndpointConfigName\": \"music-recommender-endpoint-config\",\n",
      "    \"EndpointStatus\": \"Failed\",\n",
      "    \"FailureReason\": \"Failed to extract model data archive from URL \\\"s3://music-recommender/models/model_files.zip\\\". Please ensure that the object located at the URL is a valid tar.gz archive.\",\n",
      "    \"CreationTime\": \"2025-02-02 05:57:28.187000-05:00\",\n",
      "    \"LastModifiedTime\": \"2025-02-02 06:02:02.904000-05:00\",\n",
      "    \"ResponseMetadata\": {\n",
      "        \"RequestId\": \"5c6bae4b-3991-4c0b-8d55-d14a0252fb59\",\n",
      "        \"HTTPStatusCode\": 200,\n",
      "        \"HTTPHeaders\": {\n",
      "            \"x-amzn-requestid\": \"5c6bae4b-3991-4c0b-8d55-d14a0252fb59\",\n",
      "            \"content-type\": \"application/x-amz-json-1.1\",\n",
      "            \"content-length\": \"480\",\n",
      "            \"date\": \"Sun, 02 Feb 2025 11:11:53 GMT\"\n",
      "        },\n",
      "        \"RetryAttempts\": 0\n",
      "    }\n",
      "}\n"
     ]
    }
   ],
   "source": [
    "#checking the status of the endpoint\n",
    "import boto3\n",
    "import json\n",
    "\n",
    "# Initialize SageMaker client\n",
    "sagemaker_client = boto3.client('sagemaker', region_name='us-east-1')\n",
    "\n",
    "# Get endpoint details\n",
    "response = sagemaker_client.describe_endpoint(EndpointName='music-recommender-endpoint')\n",
    "print(json.dumps(response, indent=4, default=str))\n"
   ]
  },
  {
   "cell_type": "code",
   "execution_count": 31,
   "metadata": {},
   "outputs": [
    {
     "name": "stdout",
     "output_type": "stream",
     "text": [
      "Waiting for endpoint to become active...\n",
      "Endpoint status: Failed\n"
     ]
    },
    {
     "ename": "Exception",
     "evalue": "Endpoint deployment failed",
     "output_type": "error",
     "traceback": [
      "\u001b[1;31m---------------------------------------------------------------------------\u001b[0m",
      "\u001b[1;31mException\u001b[0m                                 Traceback (most recent call last)",
      "Cell \u001b[1;32mIn[31], line 17\u001b[0m\n\u001b[0;32m     13\u001b[0m             \u001b[38;5;28;01mraise\u001b[39;00m \u001b[38;5;167;01mException\u001b[39;00m(\u001b[38;5;124m\"\u001b[39m\u001b[38;5;124mEndpoint deployment failed\u001b[39m\u001b[38;5;124m\"\u001b[39m)\n\u001b[0;32m     15\u001b[0m         time\u001b[38;5;241m.\u001b[39msleep(\u001b[38;5;241m30\u001b[39m)\n\u001b[1;32m---> 17\u001b[0m \u001b[43mwait_for_endpoint\u001b[49m\u001b[43m(\u001b[49m\u001b[43mendpoint_name\u001b[49m\u001b[43m)\u001b[49m\n",
      "Cell \u001b[1;32mIn[31], line 13\u001b[0m, in \u001b[0;36mwait_for_endpoint\u001b[1;34m(endpoint_name)\u001b[0m\n\u001b[0;32m     11\u001b[0m     \u001b[38;5;28;01mbreak\u001b[39;00m\n\u001b[0;32m     12\u001b[0m \u001b[38;5;28;01melif\u001b[39;00m status \u001b[38;5;241m==\u001b[39m \u001b[38;5;124m'\u001b[39m\u001b[38;5;124mFailed\u001b[39m\u001b[38;5;124m'\u001b[39m:\n\u001b[1;32m---> 13\u001b[0m     \u001b[38;5;28;01mraise\u001b[39;00m \u001b[38;5;167;01mException\u001b[39;00m(\u001b[38;5;124m\"\u001b[39m\u001b[38;5;124mEndpoint deployment failed\u001b[39m\u001b[38;5;124m\"\u001b[39m)\n\u001b[0;32m     15\u001b[0m time\u001b[38;5;241m.\u001b[39msleep(\u001b[38;5;241m30\u001b[39m)\n",
      "\u001b[1;31mException\u001b[0m: Endpoint deployment failed"
     ]
    }
   ],
   "source": [
    "import time\n",
    "def wait_for_endpoint(endpoint_name):\n",
    "    print(\"Waiting for endpoint to become active...\")\n",
    "    while True:\n",
    "        response = sagemaker_client.describe_endpoint(EndpointName=endpoint_name)\n",
    "        status = response['EndpointStatus']\n",
    "        print(f\"Endpoint status: {status}\")\n",
    "\n",
    "        if status == 'InService':\n",
    "            print(\"Endpoint is ready!\")\n",
    "            break\n",
    "        elif status == 'Failed':\n",
    "            raise Exception(\"Endpoint deployment failed\")\n",
    "\n",
    "        time.sleep(30)\n",
    "\n",
    "wait_for_endpoint(endpoint_name)\n"
   ]
  },
  {
   "cell_type": "code",
   "execution_count": null,
   "metadata": {},
   "outputs": [],
   "source": []
  }
 ],
 "metadata": {
  "kernelspec": {
   "display_name": "Python 3",
   "language": "python",
   "name": "python3"
  },
  "language_info": {
   "codemirror_mode": {
    "name": "ipython",
    "version": 3
   },
   "file_extension": ".py",
   "mimetype": "text/x-python",
   "name": "python",
   "nbconvert_exporter": "python",
   "pygments_lexer": "ipython3",
   "version": "3.12.6"
  }
 },
 "nbformat": 4,
 "nbformat_minor": 2
}
