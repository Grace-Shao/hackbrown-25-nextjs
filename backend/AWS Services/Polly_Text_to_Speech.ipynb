{
 "cells": [
  {
   "cell_type": "code",
   "execution_count": 2,
   "metadata": {},
   "outputs": [
    {
     "name": "stdout",
     "output_type": "stream",
     "text": [
      "Audio file saved as welcome_message.mp3\n"
     ]
    }
   ],
   "source": [
    "import boto3\n",
    "from contextlib import closing\n",
    "import os\n",
    "from dotenv import load_dotenv\n",
    "\n",
    "load_dotenv()\n",
    "\n",
    "aws_access_key = os.getenv('AWS_ACCESS_KEY_ID')\n",
    "aws_secret_access_key = os.getenv('AWS_SECRET_ACCESS_KEY')\n",
    "aws_region = os.getenv('AWS_REGION', 'us-east-1')\n",
    "\n",
    "polly_client = boto3.client(\n",
    "    'polly',\n",
    "    aws_access_key_id=aws_access_key,\n",
    "    aws_secret_access_key=aws_secret_access_key,\n",
    "    region_name=aws_region\n",
    ")\n",
    "\n",
    "response = polly_client.synthesize_speech(\n",
    "    Text='Hello, welcome to the music recommender system!',\n",
    "    OutputFormat='mp3',\n",
    "    VoiceId='Joanna'\n",
    ")\n",
    "\n",
    "if 'AudioStream' in response:\n",
    "    with closing(response['AudioStream']) as stream:\n",
    "        output = os.path.join(os.getcwd(), 'welcome_message.mp3')\n",
    "        with open(output, 'wb') as file:\n",
    "            file.write(stream.read())\n",
    "    print('Audio file saved as welcome_message.mp3')\n",
    "else:\n",
    "    print('Could not stream audio')\n"
   ]
  },
  {
   "cell_type": "code",
   "execution_count": null,
   "metadata": {},
   "outputs": [],
   "source": []
  }
 ],
 "metadata": {
  "kernelspec": {
   "display_name": "Python 3",
   "language": "python",
   "name": "python3"
  },
  "language_info": {
   "codemirror_mode": {
    "name": "ipython",
    "version": 3
   },
   "file_extension": ".py",
   "mimetype": "text/x-python",
   "name": "python",
   "nbconvert_exporter": "python",
   "pygments_lexer": "ipython3",
   "version": "3.12.6"
  }
 },
 "nbformat": 4,
 "nbformat_minor": 2
}
